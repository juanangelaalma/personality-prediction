{
 "cells": [
  {
   "cell_type": "code",
   "execution_count": 16,
   "id": "e6d12c6e-7f80-4c63-8526-7fcada86c8b3",
   "metadata": {},
   "outputs": [],
   "source": [
    "import zipfile"
   ]
  },
  {
   "cell_type": "code",
   "execution_count": 24,
   "id": "31a9d84f-73e7-43fc-9a8c-c5a58f9e470c",
   "metadata": {},
   "outputs": [],
   "source": [
    "def extract_zip(zip_file_path, unzip_destination):\n",
    "    with zipfile.ZipFile(zip_file_path, 'r') as zip_ref:\n",
    "        zip_ref.extractall(pwd=b'.chalearnLAPFirstImpressionsSECONDRoundICPRWorkshop2016.', path=unzip_destination)"
   ]
  },
  {
   "cell_type": "code",
   "execution_count": 15,
   "id": "5072ae92-9b68-4df3-a360-69cf0d63d5dc",
   "metadata": {},
   "outputs": [],
   "source": [
    "# files = ['testing/test-1', 'testing/test-2']\n",
    "\n",
    "# for file in files:\n",
    "#     extract_zip(\"./datasets/testing/%s.zip\" % file, \"./datasets/testing/%s\" % file)\n"
   ]
  },
  {
   "cell_type": "code",
   "execution_count": 29,
   "id": "f8cc7edd-4eb5-4685-83a7-1a3afd9ea58b",
   "metadata": {},
   "outputs": [],
   "source": [
    "import os\n",
    "\n",
    "list_files = os.listdir('./datasets/testing/videos')\n",
    "\n",
    "videos_path = './datasets/testing/videos'\n",
    "\n",
    "for file_name in list_files:\n",
    "    extract_zip(\"./datasets/testing/videos/%s\" % (file_name), videos_path)"
   ]
  },
  {
   "cell_type": "code",
   "execution_count": 30,
   "id": "52638538-6b03-4a12-97d3-c0b78d183039",
   "metadata": {},
   "outputs": [
    {
     "data": {
      "text/plain": [
       "2000"
      ]
     },
     "execution_count": 30,
     "metadata": {},
     "output_type": "execute_result"
    }
   ],
   "source": [
    "len(os.listdir('./datasets/testing/videos'))"
   ]
  },
  {
   "cell_type": "code",
   "execution_count": null,
   "id": "6d16dc22-3bd3-4f76-bf38-88cc52582ee1",
   "metadata": {},
   "outputs": [],
   "source": []
  }
 ],
 "metadata": {
  "kernelspec": {
   "display_name": "Python 3 (ipykernel)",
   "language": "python",
   "name": "python3"
  },
  "language_info": {
   "codemirror_mode": {
    "name": "ipython",
    "version": 3
   },
   "file_extension": ".py",
   "mimetype": "text/x-python",
   "name": "python",
   "nbconvert_exporter": "python",
   "pygments_lexer": "ipython3",
   "version": "3.11.2"
  }
 },
 "nbformat": 4,
 "nbformat_minor": 5
}
