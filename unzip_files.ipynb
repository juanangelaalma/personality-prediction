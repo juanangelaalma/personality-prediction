{
 "cells": [
  {
   "cell_type": "code",
   "execution_count": 23,
   "id": "e6d12c6e-7f80-4c63-8526-7fcada86c8b3",
   "metadata": {},
   "outputs": [],
   "source": [
    "import zipfile"
   ]
  },
  {
   "cell_type": "code",
   "execution_count": 24,
   "id": "31a9d84f-73e7-43fc-9a8c-c5a58f9e470c",
   "metadata": {},
   "outputs": [],
   "source": [
    "def extract_zip(zip_file_path, unzip_destination):\n",
    "    with zipfile.ZipFile(zip_file_path, 'r') as zip_ref:\n",
    "        zip_ref.extractall(unzip_destination)"
   ]
  },
  {
   "cell_type": "code",
   "execution_count": 26,
   "id": "f8cc7edd-4eb5-4685-83a7-1a3afd9ea58b",
   "metadata": {},
   "outputs": [],
   "source": [
    "import os\n",
    "\n",
    "list_files = os.listdir('./datasets/validation/val-2')\n",
    "\n",
    "videos_path = './datasets/validation/videos'\n",
    "\n",
    "for file_name in list_files:\n",
    "    extract_zip(\"./datasets/validation/val-2/%s\" % (file_name), videos_path)"
   ]
  },
  {
   "cell_type": "code",
   "execution_count": 29,
   "id": "52638538-6b03-4a12-97d3-c0b78d183039",
   "metadata": {},
   "outputs": [
    {
     "data": {
      "text/plain": [
       "2000"
      ]
     },
     "execution_count": 29,
     "metadata": {},
     "output_type": "execute_result"
    }
   ],
   "source": [
    "len(os.listdir('./datasets/validation/videos'))"
   ]
  },
  {
   "cell_type": "code",
   "execution_count": null,
   "id": "6d16dc22-3bd3-4f76-bf38-88cc52582ee1",
   "metadata": {},
   "outputs": [],
   "source": []
  }
 ],
 "metadata": {
  "kernelspec": {
   "display_name": "Python 3 (ipykernel)",
   "language": "python",
   "name": "python3"
  },
  "language_info": {
   "codemirror_mode": {
    "name": "ipython",
    "version": 3
   },
   "file_extension": ".py",
   "mimetype": "text/x-python",
   "name": "python",
   "nbconvert_exporter": "python",
   "pygments_lexer": "ipython3",
   "version": "3.11.2"
  }
 },
 "nbformat": 4,
 "nbformat_minor": 5
}
